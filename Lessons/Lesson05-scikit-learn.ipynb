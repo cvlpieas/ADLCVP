{
 "cells": [
  {
   "cell_type": "markdown",
   "metadata": {},
   "source": [
    "# Lesson 05: Scikit-Learn"
   ]
  },
  {
   "cell_type": "markdown",
   "metadata": {},
   "source": [
    "Scikit-learn is an open source machine learning library that supports supervised and unsupervised learning. It also provides various tools for model fitting, data preprocessing, model selection and evaluation, and many other utilities."
   ]
  },
  {
   "cell_type": "markdown",
   "metadata": {},
   "source": [
    "# MNIST Digit Recognition"
   ]
  },
  {
   "cell_type": "markdown",
   "metadata": {},
   "source": [
    "## Logistic Regression"
   ]
  },
  {
   "cell_type": "code",
   "execution_count": 111,
   "metadata": {},
   "outputs": [],
   "source": [
    "from sklearn import datasets, metrics\n",
    "from sklearn.linear_model import LogisticRegression\n",
    "from sklearn.model_selection import train_test_split\n",
    "\n",
    "# loading dataset\n",
    "mnist = datasets.load_digits()\n",
    "images = mnist.images\n",
    "labels = mnist.target"
   ]
  },
  {
   "cell_type": "code",
   "execution_count": 112,
   "metadata": {},
   "outputs": [],
   "source": [
    "# preprocessing: converting image matrix to a vector\n",
    "images = images.reshape(len(images), -1)"
   ]
  },
  {
   "cell_type": "code",
   "execution_count": 113,
   "metadata": {},
   "outputs": [],
   "source": [
    "LR_classifier = LogisticRegression()"
   ]
  },
  {
   "cell_type": "code",
   "execution_count": 114,
   "metadata": {},
   "outputs": [
    {
     "name": "stderr",
     "output_type": "stream",
     "text": [
      "/home/hassan/misc/miniconda3/envs/hci/lib/python3.8/site-packages/sklearn/linear_model/_logistic.py:938: ConvergenceWarning: lbfgs failed to converge (status=1):\n",
      "STOP: TOTAL NO. of ITERATIONS REACHED LIMIT.\n",
      "\n",
      "Increase the number of iterations (max_iter) or scale the data as shown in:\n",
      "    https://scikit-learn.org/stable/modules/preprocessing.html\n",
      "Please also refer to the documentation for alternative solver options:\n",
      "    https://scikit-learn.org/stable/modules/linear_model.html#logistic-regression\n",
      "  n_iter_i = _check_optimize_result(\n"
     ]
    },
    {
     "data": {
      "text/plain": [
       "LogisticRegression(C=1.0, class_weight=None, dual=False, fit_intercept=True,\n",
       "                   intercept_scaling=1, l1_ratio=None, max_iter=100,\n",
       "                   multi_class='auto', n_jobs=None, penalty='l2',\n",
       "                   random_state=None, solver='lbfgs', tol=0.0001, verbose=0,\n",
       "                   warm_start=False)"
      ]
     },
     "execution_count": 114,
     "metadata": {},
     "output_type": "execute_result"
    }
   ],
   "source": [
    "# splitting the dataset into train and test set\n",
    "X_train, X_test, y_train, y_test = train_test_split(images, labels, test_size=0.25)\n",
    "\n",
    "LR_classifier.fit(X_train, y_train)"
   ]
  },
  {
   "cell_type": "code",
   "execution_count": 115,
   "metadata": {},
   "outputs": [],
   "source": [
    "# genearting predictions on the test set\n",
    "predictions = LR_classifier.predict(X_test)"
   ]
  },
  {
   "cell_type": "code",
   "execution_count": 116,
   "metadata": {},
   "outputs": [
    {
     "name": "stdout",
     "output_type": "stream",
     "text": [
      "Performance Report: \n",
      "               precision    recall  f1-score   support\n",
      "\n",
      "           0       1.00      1.00      1.00        44\n",
      "           1       0.98      0.94      0.96        48\n",
      "           2       1.00      1.00      1.00        31\n",
      "           3       0.97      0.98      0.97        57\n",
      "           4       0.93      1.00      0.97        43\n",
      "           5       0.98      0.94      0.96        47\n",
      "           6       1.00      1.00      1.00        49\n",
      "           7       1.00      1.00      1.00        41\n",
      "           8       0.96      0.96      0.96        47\n",
      "           9       0.95      0.95      0.95        43\n",
      "\n",
      "    accuracy                           0.98       450\n",
      "   macro avg       0.98      0.98      0.98       450\n",
      "weighted avg       0.98      0.98      0.98       450\n",
      " \n",
      "\n"
     ]
    }
   ],
   "source": [
    "print(\"Performance Report: \\n %s \\n\" % (metrics.classification_report(y_test, predictions)))"
   ]
  },
  {
   "cell_type": "markdown",
   "metadata": {},
   "source": [
    "## Support Vector Machines"
   ]
  },
  {
   "cell_type": "code",
   "execution_count": 121,
   "metadata": {},
   "outputs": [],
   "source": [
    "from sklearn import svm\n",
    "\n",
    "SVM_classifier = svm.SVC()"
   ]
  },
  {
   "cell_type": "code",
   "execution_count": 122,
   "metadata": {},
   "outputs": [
    {
     "data": {
      "text/plain": [
       "SVC(C=1.0, break_ties=False, cache_size=200, class_weight=None, coef0=0.0,\n",
       "    decision_function_shape='ovr', degree=3, gamma='scale', kernel='rbf',\n",
       "    max_iter=-1, probability=False, random_state=None, shrinking=True,\n",
       "    tol=0.001, verbose=False)"
      ]
     },
     "execution_count": 122,
     "metadata": {},
     "output_type": "execute_result"
    }
   ],
   "source": [
    "SVM_classifier.fit(X_train, y_train)"
   ]
  },
  {
   "cell_type": "code",
   "execution_count": 123,
   "metadata": {},
   "outputs": [],
   "source": [
    "predictions = SVM_classifier.predict(X_test)"
   ]
  },
  {
   "cell_type": "code",
   "execution_count": 124,
   "metadata": {},
   "outputs": [
    {
     "name": "stdout",
     "output_type": "stream",
     "text": [
      "Performance Report: \n",
      "               precision    recall  f1-score   support\n",
      "\n",
      "           0       1.00      1.00      1.00        44\n",
      "           1       0.96      1.00      0.98        48\n",
      "           2       1.00      1.00      1.00        31\n",
      "           3       0.98      0.96      0.97        57\n",
      "           4       1.00      1.00      1.00        43\n",
      "           5       0.98      1.00      0.99        47\n",
      "           6       1.00      1.00      1.00        49\n",
      "           7       0.98      1.00      0.99        41\n",
      "           8       1.00      0.96      0.98        47\n",
      "           9       1.00      0.98      0.99        43\n",
      "\n",
      "    accuracy                           0.99       450\n",
      "   macro avg       0.99      0.99      0.99       450\n",
      "weighted avg       0.99      0.99      0.99       450\n",
      " \n",
      "\n"
     ]
    }
   ],
   "source": [
    "print(\"Performance Report: \\n %s \\n\" % (metrics.classification_report(y_test, predictions)))"
   ]
  },
  {
   "cell_type": "markdown",
   "metadata": {},
   "source": [
    "## K-means Clustering"
   ]
  },
  {
   "cell_type": "code",
   "execution_count": 126,
   "metadata": {},
   "outputs": [],
   "source": [
    "from sklearn.cluster import KMeans\n",
    "\n",
    "clustering = KMeans(n_clusters=10, init='k-means++', n_init=10)"
   ]
  },
  {
   "cell_type": "code",
   "execution_count": 127,
   "metadata": {},
   "outputs": [
    {
     "data": {
      "text/plain": [
       "KMeans(algorithm='auto', copy_x=True, init='k-means++', max_iter=300,\n",
       "       n_clusters=10, n_init=10, n_jobs=None, precompute_distances='auto',\n",
       "       random_state=None, tol=0.0001, verbose=0)"
      ]
     },
     "execution_count": 127,
     "metadata": {},
     "output_type": "execute_result"
    }
   ],
   "source": [
    "clustering.fit(X_train)"
   ]
  },
  {
   "cell_type": "code",
   "execution_count": 128,
   "metadata": {},
   "outputs": [
    {
     "name": "stdout",
     "output_type": "stream",
     "text": [
      "[8 9 3 ... 7 4 1]\n"
     ]
    }
   ],
   "source": [
    "print(clustering.labels_)"
   ]
  },
  {
   "cell_type": "code",
   "execution_count": 130,
   "metadata": {},
   "outputs": [],
   "source": [
    "predictions = clustering.predict(X_test)"
   ]
  },
  {
   "cell_type": "code",
   "execution_count": 133,
   "metadata": {},
   "outputs": [
    {
     "data": {
      "text/plain": [
       "array([9, 3, 7, 1, 4, 0, 9, 9, 4, 9, 0, 5, 1, 9, 2, 3, 2, 9, 9, 1, 0, 5,\n",
       "       9, 7, 5, 6, 2, 0, 0, 9, 8, 6, 1, 2, 1, 1, 0, 3, 9, 3, 6, 7, 5, 8,\n",
       "       8, 3, 1, 3, 1, 7, 5, 3, 8, 5, 9, 2, 3, 1, 7, 9, 6, 2, 2, 0, 8, 4,\n",
       "       3, 8, 1, 5, 5, 3, 4, 4, 8, 0, 3, 0, 0, 2, 1, 7, 9, 5, 7, 3, 1, 1,\n",
       "       8, 1, 9, 8, 0, 1, 9, 6, 4, 7, 8, 2, 7, 0, 5, 8, 2, 8, 2, 3, 8, 9,\n",
       "       1, 0, 9, 3, 2, 6, 8, 1, 7, 0, 3, 0, 0, 5, 3, 6, 7, 8, 3, 9, 1, 2,\n",
       "       7, 5, 0, 3, 1, 8, 0, 5, 1, 8, 2, 3, 3, 2, 7, 2, 6, 5, 5, 2, 3, 1,\n",
       "       2, 3, 0, 7, 4, 0, 9, 8, 7, 7, 9, 8, 8, 4, 2, 6, 7, 9, 1, 6, 3, 3,\n",
       "       9, 7, 9, 3, 3, 8, 9, 7, 1, 6, 6, 2, 2, 1, 3, 2, 8, 8, 6, 9, 8, 9,\n",
       "       0, 4, 9, 7, 4, 6, 0, 0, 8, 1, 7, 0, 2, 9, 6, 9, 9, 4, 2, 7, 0, 4,\n",
       "       4, 2, 8, 9, 6, 3, 6, 1, 2, 9, 4, 5, 1, 3, 2, 1, 8, 3, 8, 2, 4, 9,\n",
       "       6, 9, 1, 2, 6, 4, 0, 9, 9, 9, 3, 3, 8, 2, 9, 2, 2, 3, 6, 7, 1, 1,\n",
       "       7, 7, 3, 7, 8, 1, 2, 9, 9, 9, 1, 6, 6, 2, 7, 2, 3, 5, 2, 8, 8, 4,\n",
       "       4, 6, 1, 6, 5, 3, 1, 2, 8, 6, 1, 0, 0, 6, 7, 7, 9, 1, 1, 0, 0, 1,\n",
       "       5, 8, 9, 2, 0, 2, 4, 6, 4, 0, 1, 3, 0, 1, 7, 4, 7, 4, 6, 9, 9, 3,\n",
       "       4, 6, 8, 6, 6, 9, 2, 1, 7, 3, 6, 4, 5, 7, 5, 3, 2, 6, 7, 9, 3, 7,\n",
       "       6, 9, 3, 5, 5, 4, 5, 8, 8, 1, 1, 8, 6, 1, 3, 3, 3, 2, 0, 1, 1, 2,\n",
       "       4, 7, 7, 9, 1, 9, 9, 1, 7, 1, 6, 3, 7, 3, 5, 0, 8, 7, 1, 4, 4, 2,\n",
       "       1, 4, 0, 0, 8, 2, 7, 6, 3, 5, 6, 4, 9, 1, 9, 6, 6, 2, 3, 1, 9, 2,\n",
       "       7, 6, 7, 1, 7, 1, 7, 8, 5, 0, 4, 0, 8, 1, 0, 6, 0, 9, 5, 9, 5, 9,\n",
       "       9, 7, 5, 3, 2, 8, 8, 3, 2, 2], dtype=int32)"
      ]
     },
     "execution_count": 133,
     "metadata": {},
     "output_type": "execute_result"
    }
   ],
   "source": [
    "predictions"
   ]
  },
  {
   "cell_type": "markdown",
   "metadata": {},
   "source": [
    "## Neural Network"
   ]
  },
  {
   "cell_type": "code",
   "execution_count": 137,
   "metadata": {},
   "outputs": [],
   "source": [
    "from sklearn.datasets import fetch_openml\n",
    "from sklearn.neural_network import MLPClassifier\n",
    "from sklearn.preprocessing import normalize\n",
    "\n",
    "# downloading dataset\n",
    "mnist = fetch_openml('mnist_784')\n",
    "images = mnist.data\n",
    "labels = mnist.target"
   ]
  },
  {
   "cell_type": "code",
   "execution_count": 139,
   "metadata": {},
   "outputs": [],
   "source": [
    "images = normalize(images)\n",
    "images_train, images_test, labels_train, labels_test = train_test_split(images, labels, test_size=0.25)"
   ]
  },
  {
   "cell_type": "code",
   "execution_count": 148,
   "metadata": {},
   "outputs": [],
   "source": [
    "# defining the neural network, you can change hyper-parameters here\n",
    "\n",
    "nn = MLPClassifier(hidden_layer_sizes=(100, 50), max_iter=20, solver='sgd', activation='relu', verbose=True)"
   ]
  },
  {
   "cell_type": "code",
   "execution_count": 149,
   "metadata": {},
   "outputs": [
    {
     "name": "stdout",
     "output_type": "stream",
     "text": [
      "Iteration 1, loss = 2.29157994\n",
      "Iteration 2, loss = 2.26005352\n",
      "Iteration 3, loss = 2.22588570\n",
      "Iteration 4, loss = 2.18073485\n",
      "Iteration 5, loss = 2.11785772\n",
      "Iteration 6, loss = 2.03018927\n",
      "Iteration 7, loss = 1.91363720\n",
      "Iteration 8, loss = 1.77117432\n",
      "Iteration 9, loss = 1.61094645\n",
      "Iteration 10, loss = 1.44344804\n",
      "Iteration 11, loss = 1.28237769\n",
      "Iteration 12, loss = 1.14231351\n",
      "Iteration 13, loss = 1.02703337\n",
      "Iteration 14, loss = 0.93347394\n",
      "Iteration 15, loss = 0.85837118\n",
      "Iteration 16, loss = 0.79742086\n",
      "Iteration 17, loss = 0.74720781\n",
      "Iteration 18, loss = 0.70508618\n",
      "Iteration 19, loss = 0.66923542\n",
      "Iteration 20, loss = 0.63817402\n"
     ]
    },
    {
     "name": "stderr",
     "output_type": "stream",
     "text": [
      "/home/hassan/misc/miniconda3/envs/hci/lib/python3.8/site-packages/sklearn/neural_network/_multilayer_perceptron.py:568: ConvergenceWarning: Stochastic Optimizer: Maximum iterations (20) reached and the optimization hasn't converged yet.\n",
      "  warnings.warn(\n"
     ]
    },
    {
     "data": {
      "text/plain": [
       "MLPClassifier(activation='relu', alpha=0.0001, batch_size='auto', beta_1=0.9,\n",
       "              beta_2=0.999, early_stopping=False, epsilon=1e-08,\n",
       "              hidden_layer_sizes=(100, 50), learning_rate='constant',\n",
       "              learning_rate_init=0.001, max_fun=15000, max_iter=20,\n",
       "              momentum=0.9, n_iter_no_change=10, nesterovs_momentum=True,\n",
       "              power_t=0.5, random_state=None, shuffle=True, solver='sgd',\n",
       "              tol=0.0001, validation_fraction=0.1, verbose=True,\n",
       "              warm_start=False)"
      ]
     },
     "execution_count": 149,
     "metadata": {},
     "output_type": "execute_result"
    }
   ],
   "source": [
    "nn.fit(images_train, labels_train)"
   ]
  },
  {
   "cell_type": "code",
   "execution_count": 150,
   "metadata": {},
   "outputs": [
    {
     "name": "stdout",
     "output_type": "stream",
     "text": [
      "Network Performance: 0.825314\n"
     ]
    }
   ],
   "source": [
    "print('Network Performance: %f' % nn.score(images_test, labels_test))"
   ]
  },
  {
   "cell_type": "markdown",
   "metadata": {},
   "source": [
    "# Resources\n",
    "\n",
    "- https://scikit-learn.org/stable/getting_started.html#\n",
    "- https://scikit-learn.org/stable/tutorial/index.html"
   ]
  }
 ],
 "metadata": {
  "kernelspec": {
   "display_name": "Python 3",
   "language": "python",
   "name": "python3"
  },
  "language_info": {
   "codemirror_mode": {
    "name": "ipython",
    "version": 3
   },
   "file_extension": ".py",
   "mimetype": "text/x-python",
   "name": "python",
   "nbconvert_exporter": "python",
   "pygments_lexer": "ipython3",
   "version": "3.8.2"
  }
 },
 "nbformat": 4,
 "nbformat_minor": 4
}

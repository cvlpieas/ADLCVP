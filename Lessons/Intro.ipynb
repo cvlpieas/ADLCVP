{
 "cells": [
  {
   "cell_type": "markdown",
   "metadata": {},
   "source": [
    "# Welcome to Applied Deep Learning for Computer Vision with PyTorch (ADLCVP)"
   ]
  },
  {
   "cell_type": "markdown",
   "metadata": {},
   "source": [
    "Short course on practical deep learning techniques and PyTorch. Contents include:\n",
    "\n",
    "- Intro to Python\n",
    "- Package Manager and Virtual Environments\n",
    "- Jupyter and Colab\n",
    "- Numpy\n",
    "- scikit-learn\n",
    "- opencv\n",
    "- matplotlib\n",
    "- seaborn\n",
    "- tsne and umap\n",
    "- Web Scrapping\n",
    "- PyTorch\n",
    "- ssh, scp, nvidia-smi, tmux, glances, htop"
   ]
  },
  {
   "cell_type": "markdown",
   "metadata": {},
   "source": [
    "Intructors:\n",
    "\n",
    "- Hassan Askary (BSCIS 2017-2021)\n",
    "- Umar Farooq (BSCIS 2017-2021)"
   ]
  }
 ],
 "metadata": {
  "kernelspec": {
   "display_name": "Python 3",
   "language": "python",
   "name": "python3"
  },
  "language_info": {
   "codemirror_mode": {
    "name": "ipython",
    "version": 3
   },
   "file_extension": ".py",
   "mimetype": "text/x-python",
   "name": "python",
   "nbconvert_exporter": "python",
   "pygments_lexer": "ipython3",
   "version": "3.8.2"
  }
 },
 "nbformat": 4,
 "nbformat_minor": 4
}
